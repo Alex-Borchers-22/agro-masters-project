{
 "cells": [
  {
   "cell_type": "code",
   "execution_count": 2,
   "id": "23048bd9",
   "metadata": {
    "scrolled": true
   },
   "outputs": [],
   "source": [
    "# load in csvOut.csv data (holds image name & classification)\n",
    "import csv\n",
    "import os #to get all picture in directory\n",
    "from PIL import Image #to open images\n",
    "import numpy as np #load in numpy module\n",
    "import sys\n",
    "\n",
    "# loads only classification data\n",
    "with open('..//..//csvFileClassification.csv', newline='') as csvfile:\n",
    "    cls = list(csv.reader(csvfile))\n",
    "\n",
    "# convert to numpy array\n",
    "cls_np = np.array(cls)\n",
    "\n",
    "# loads in full csvOut data (name & classification)\n",
    "with open('..//..//csvOut.csv', newline='') as csvfile:\n",
    "    cls_full = list(csv.reader(csvfile))\n",
    "\n",
    "# convert to numpy array\n",
    "cls_full_np = np.array(cls_full)"
   ]
  },
  {
   "cell_type": "code",
   "execution_count": 3,
   "id": "8f895b34",
   "metadata": {},
   "outputs": [],
   "source": [
    "# Get the list of all files in directory\n",
    "path = \"..//..//images_handheld_resized\"\n",
    "dir_list = os.listdir(path)\n",
    "\n",
    "# Initialize dictionaries to hold bitmap information for each image\n",
    "rgb = {}\n",
    "\n",
    "# loop through files and get bit map for each (save as object where filename => bitmap for r,g,b)\n",
    "for file in cls_full:\n",
    "    \n",
    "    # method found https://stackoverflow.com/questions/46385999/transform-an-image-to-a-bitmap\n",
    "    img = Image.open(path + \"\\\\\" + file[0])\n",
    "    \n",
    "    # resize image\n",
    "    smallest_img = img.resize((120, 80))\n",
    "    ary = np.array(smallest_img)\n",
    "    \n",
    "    # Save all 3 together\n",
    "    rgb[file[0]] = ary\n",
    "    \n",
    "    # Split the three channels\n",
    "    #r[file], g[file], b[file] = np.split(ary,3,axis=2)\n",
    "    \n",
    "    # flatten out to 1 array\n",
    "    rgb[file[0]]=rgb[file[0]].reshape(-1)\n",
    "    \n",
    "    # convert array to string\n",
    "    #rgb_string[file] = np.array2string(rgb[file], precision=2, separator=',', suppress_small=True)\n"
   ]
  },
  {
   "cell_type": "code",
   "execution_count": 4,
   "id": "c052113b",
   "metadata": {
    "scrolled": false
   },
   "outputs": [],
   "source": [
    "# convert to indexed np array\n",
    "rgb_arr = np.array([rgb[row] for row in rgb])"
   ]
  },
  {
   "cell_type": "code",
   "execution_count": 1,
   "id": "8db41d19",
   "metadata": {
    "scrolled": true
   },
   "outputs": [
    {
     "ename": "ModuleNotFoundError",
     "evalue": "No module named 'tensorflow'",
     "output_type": "error",
     "traceback": [
      "\u001b[1;31m---------------------------------------------------------------------------\u001b[0m",
      "\u001b[1;31mModuleNotFoundError\u001b[0m                       Traceback (most recent call last)",
      "Input \u001b[1;32mIn [1]\u001b[0m, in \u001b[0;36m<cell line: 1>\u001b[1;34m()\u001b[0m\n\u001b[1;32m----> 1\u001b[0m \u001b[38;5;28;01mimport\u001b[39;00m \u001b[38;5;21;01mtensorflow\u001b[39;00m \u001b[38;5;28;01mas\u001b[39;00m \u001b[38;5;21;01mtf\u001b[39;00m\n\u001b[0;32m      2\u001b[0m \u001b[38;5;28;01mfrom\u001b[39;00m \u001b[38;5;21;01mtensorflow\u001b[39;00m \u001b[38;5;28;01mimport\u001b[39;00m keras\n\u001b[0;32m      3\u001b[0m \u001b[38;5;28;01mfrom\u001b[39;00m \u001b[38;5;21;01mtensorflow\u001b[39;00m\u001b[38;5;21;01m.\u001b[39;00m\u001b[38;5;21;01mkeras\u001b[39;00m \u001b[38;5;28;01mimport\u001b[39;00m layers\n",
      "\u001b[1;31mModuleNotFoundError\u001b[0m: No module named 'tensorflow'"
     ]
    }
   ],
   "source": [
    "import tensorflow as tf\n",
    "from tensorflow import keras\n",
    "from tensorflow.keras import layers\n",
    "\n",
    "#split data into training and testing sets\n",
    "X_train, X_test, y_train, y_test = train_test_split(rgb_arr, cls_np, test_size=0.2)"
   ]
  },
  {
   "cell_type": "code",
   "execution_count": null,
   "id": "51e354f1",
   "metadata": {},
   "outputs": [],
   "source": [
    "# Preprocess the data\n",
    "x_train = x_train.reshape(-1, 28, 28, 1).astype(\"float32\") / 255.0\n",
    "x_test = x_test.reshape(-1, 28, 28, 1).astype(\"float32\") / 255.0\n",
    "\n",
    "# Define the model architecture\n",
    "model = keras.Sequential([\n",
    "    layers.Conv2D(32, (3, 3), activation=\"relu\", input_shape=(28, 28, 1)),\n",
    "    layers.MaxPooling2D((2, 2)),\n",
    "    layers.Conv2D(64, (3, 3), activation=\"relu\"),\n",
    "    layers.MaxPooling2D((2, 2)),\n",
    "    layers.Flatten(),\n",
    "    layers.Dropout(0.5),\n",
    "    layers.Dense(10, activation=\"softmax\")\n",
    "])\n",
    "\n",
    "# Compile the model\n",
    "model.compile(optimizer=\"adam\", loss=\"sparse_categorical_crossentropy\", metrics=[\"accuracy\"])\n",
    "\n",
    "# Train the model\n",
    "model.fit(x_train, y_train, batch_size=128"
   ]
  }
 ],
 "metadata": {
  "kernelspec": {
   "display_name": "Python 3 (ipykernel)",
   "language": "python",
   "name": "python3"
  },
  "language_info": {
   "codemirror_mode": {
    "name": "ipython",
    "version": 3
   },
   "file_extension": ".py",
   "mimetype": "text/x-python",
   "name": "python",
   "nbconvert_exporter": "python",
   "pygments_lexer": "ipython3",
   "version": "3.9.12"
  },
  "vscode": {
   "interpreter": {
    "hash": "0e5dd7dd099c3b07f062d7783e9ff720819005a2d1deed8efae72f90ff3c8c2c"
   }
  }
 },
 "nbformat": 4,
 "nbformat_minor": 5
}
