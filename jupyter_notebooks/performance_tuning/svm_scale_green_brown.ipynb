{
 "cells": [
  {
   "cell_type": "code",
   "execution_count": 13,
   "id": "23048bd9",
   "metadata": {
    "scrolled": false
   },
   "outputs": [],
   "source": [
    "# load in csvOut.csv data (holds image name & classification)\n",
    "import csv\n",
    "import os #to get all picture in directory\n",
    "from PIL import Image #to open images\n",
    "import numpy as np #load in numpy module\n",
    "import sys\n",
    "\n",
    "# loads in full csvOut data (name & classification)\n",
    "with open('..//..//annotations_handheld_exclude_test.csv', newline='') as csvfile:\n",
    "    cls_full = list(csv.reader(csvfile))"
   ]
  },
  {
   "cell_type": "code",
   "execution_count": null,
   "id": "8f895b34",
   "metadata": {},
   "outputs": [],
   "source": [
    "# Get the list of all files in directory\n",
    "path = \"..//..//images_handheld_resized\"\n",
    "dir_list = os.listdir(path)\n",
    "\n",
    "# Initialize dictionaries to hold bitmap information for each image\n",
    "rgb = {}\n",
    "rgb_list = []\n",
    "cls = []\n",
    "\n",
    "# loop through files and get bit map for each (save as object where filename => bitmap for r,g,b)\n",
    "for file in cls_full:\n",
    "    \n",
    "    # push classification to list\n",
    "    cls.append(file[1])\n",
    "    \n",
    "    # method found https://stackoverflow.com/questions/46385999/transform-an-image-to-a-bitmap\n",
    "    img = Image.open(path + \"\\\\\" + file[0])\n",
    "    \n",
    "    # resize image\n",
    "    #small_img = img.resize((600, 400))\n",
    "    #smaller_img = img.resize((300, 200))\n",
    "    smallest_img = img.resize((120, 80))\n",
    "    #test = img.resize((90, 60))\n",
    "    ary = np.array(smallest_img)\n",
    "    \n",
    "    # Save all 3 together\n",
    "    rgb[file[0]] = ary\n",
    "    \n",
    "    # Split the three channels\n",
    "    #r[file], g[file], b[file] = np.split(ary,3,axis=2)\n",
    "    \n",
    "    # flatten out to 1 array\n",
    "    rgb[file[0]]=rgb[file[0]].reshape(-1)\n",
    "        \n",
    "    # loop through bitmap and group into values by 5s\n",
    "    for i in range(len(rgb[file[0]])):\n",
    "        if (rgb[file[0]][i] < 61):\n",
    "            rgb[file[0]][i] = 0\n",
    "        elif (rgb[file[0]][i] < 214):\n",
    "            rgb[file[0]][i] = 1\n",
    "        else:\n",
    "            rgb[file[0]][i] = 2\n",
    "    \n",
    "    rgb_list.append(rgb[file[0]])\n",
    "    \n",
    "    # convert array to string\n",
    "    #rgb_string[file] = np.array2string(rgb[file], precision=2, separator=',', suppress_small=True)\n"
   ]
  },
  {
   "cell_type": "code",
   "execution_count": 3,
   "id": "8b99f875",
   "metadata": {},
   "outputs": [
    {
     "data": {
      "text/plain": [
       "array([0, 1, 1, ..., 1, 1, 1], dtype=uint8)"
      ]
     },
     "execution_count": 3,
     "metadata": {},
     "output_type": "execute_result"
    }
   ],
   "source": [
    "rgb['DSC00026.JPG']"
   ]
  },
  {
   "cell_type": "code",
   "execution_count": null,
   "id": "c052113b",
   "metadata": {
    "scrolled": false
   },
   "outputs": [],
   "source": [
    "# convert bitmaps to indexed np array\n",
    "rgb_arr = np.array([rgb[row] for row in rgb])\n",
    "rgb_arr2 = np.array(rgb_list)\n",
    "\n",
    "# convert classifications to numpy array\n",
    "cls_np = np.array(cls)"
   ]
  },
  {
   "cell_type": "code",
   "execution_count": null,
   "id": "8db41d19",
   "metadata": {
    "scrolled": true
   },
   "outputs": [],
   "source": [
    "# Training model (load necessary libraries)\n",
    "import numpy as np\n",
    "from sklearn import datasets\n",
    "from sklearn.model_selection import train_test_split\n",
    "from sklearn import svm\n",
    "from sklearn.model_selection import GridSearchCV\n",
    "\n",
    "#split data into training and testing sets\n",
    "X_train, X_test, y_train, y_test = train_test_split(rgb_arr2, cls_np, test_size=0.2)"
   ]
  },
  {
   "cell_type": "code",
   "execution_count": null,
   "id": "5b2273bb",
   "metadata": {},
   "outputs": [],
   "source": [
    "from sklearn.metrics import accuracy_score\n",
    "\n",
    "svc = svm.SVC(C=0.1, gamma=0.0001, kernel='poly', probability=True)\n",
    "svc.fit(X_train, y_train)\n",
    "y_pred = svc.predict(X_test)\n",
    "accuracy = accuracy_score(y_test, y_pred)\n",
    "accuracy"
   ]
  },
  {
   "cell_type": "code",
   "execution_count": 7,
   "id": "15cb0e72",
   "metadata": {},
   "outputs": [
    {
     "data": {
      "text/plain": [
       "array([0.58733624, 0.56892779, 0.57330416])"
      ]
     },
     "execution_count": 7,
     "metadata": {},
     "output_type": "execute_result"
    }
   ],
   "source": [
    "from sklearn.model_selection import cross_val_score\n",
    "accuracies = cross_val_score(svm.SVC(C=0.1, gamma=0.0001, kernel='poly', probability=True), X_train, y_train, cv=3)\n",
    "accuracies"
   ]
  },
  {
   "cell_type": "code",
   "execution_count": null,
   "id": "87384847",
   "metadata": {},
   "outputs": [],
   "source": []
  }
 ],
 "metadata": {
  "kernelspec": {
   "display_name": "Python 3 (ipykernel)",
   "language": "python",
   "name": "python3"
  },
  "language_info": {
   "codemirror_mode": {
    "name": "ipython",
    "version": 3
   },
   "file_extension": ".py",
   "mimetype": "text/x-python",
   "name": "python",
   "nbconvert_exporter": "python",
   "pygments_lexer": "ipython3",
   "version": "3.9.12"
  }
 },
 "nbformat": 4,
 "nbformat_minor": 5
}
