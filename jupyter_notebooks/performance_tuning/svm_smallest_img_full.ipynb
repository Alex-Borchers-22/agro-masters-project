{
 "cells": [
  {
   "cell_type": "code",
   "execution_count": null,
   "id": "23048bd9",
   "metadata": {
    "scrolled": false
   },
   "outputs": [],
   "source": [
    "# load in csvOut.csv data (holds image name & classification)\n",
    "import csv\n",
    "import os #to get all picture in directory\n",
    "from PIL import Image #to open images\n",
    "import numpy as np #load in numpy module\n",
    "import sys\n",
    "\n",
    "# loads in full csvOut data (name & classification)\n",
    "with open('..//..//annotations_handheld.csv', newline='') as csvfile:\n",
    "    cls_full = list(csv.reader(csvfile))"
   ]
  },
  {
   "cell_type": "code",
   "execution_count": null,
   "id": "8f895b34",
   "metadata": {},
   "outputs": [],
   "source": [
    "# Get the list of all files in directory\n",
    "path = \"..//..//images_handheld_resized\"\n",
    "dir_list = os.listdir(path)\n",
    "\n",
    "# Initialize dictionaries to hold bitmap information for each image\n",
    "rgb = {}\n",
    "rgb_list = []\n",
    "cls = []\n",
    "\n",
    "# loop through files and get bit map for each (save as object where filename => bitmap for r,g,b)\n",
    "for file in cls_full:\n",
    "    \n",
    "    # push classification to list\n",
    "    cls.append(file[1])\n",
    "    \n",
    "    # method found https://stackoverflow.com/questions/46385999/transform-an-image-to-a-bitmap\n",
    "    img = Image.open(path + \"\\\\\" + file[0])\n",
    "    \n",
    "    # resize image\n",
    "    #smallest_img = img.resize((120, 80))\n",
    "    smallest_img = img.resize((12, 8))\n",
    "    ary = np.array(smallest_img)\n",
    "    \n",
    "    # Save all 3 together\n",
    "    rgb[file[0]] = ary\n",
    "    \n",
    "    # flatten out to 1 array\n",
    "    rgb[file[0]]=rgb[file[0]].reshape(-1)\n",
    "    rgb_list.append(rgb[file[0]])\n"
   ]
  },
  {
   "cell_type": "code",
   "execution_count": null,
   "id": "c052113b",
   "metadata": {
    "scrolled": false
   },
   "outputs": [],
   "source": [
    "# convert bitmaps to indexed np array\n",
    "rgb_arr = np.array([rgb[row] for row in rgb])\n",
    "rgb_arr2 = np.array(rgb_list)\n",
    "\n",
    "# convert classifications to numpy array\n",
    "cls_np = np.array(cls)"
   ]
  },
  {
   "cell_type": "code",
   "execution_count": null,
   "id": "8db41d19",
   "metadata": {
    "scrolled": true
   },
   "outputs": [],
   "source": [
    "# Training model (load necessary libraries)\n",
    "import numpy as np\n",
    "from sklearn import datasets\n",
    "from sklearn.model_selection import train_test_split\n",
    "from sklearn import svm\n",
    "from sklearn.model_selection import GridSearchCV\n",
    "\n",
    "#split data into training and testing sets\n",
    "X_train, X_test, y_train, y_test = train_test_split(rgb_arr2, cls_np, test_size=0.2)"
   ]
  },
  {
   "cell_type": "code",
   "execution_count": 18,
   "id": "5b2273bb",
   "metadata": {},
   "outputs": [
    {
     "data": {
      "text/plain": [
       "0.9493506493506494"
      ]
     },
     "execution_count": 18,
     "metadata": {},
     "output_type": "execute_result"
    }
   ],
   "source": [
    "from sklearn.metrics import accuracy_score\n",
    "\n",
    "svc = svm.SVC(C=0.1, gamma=0.0001, kernel='poly', probability=True)\n",
    "svc.fit(X_train, y_train)\n",
    "y_pred = svc.predict(X_test)\n",
    "accuracy = accuracy_score(y_test, y_pred)\n",
    "accuracy"
   ]
  },
  {
   "cell_type": "code",
   "execution_count": 6,
   "id": "22d4258f",
   "metadata": {},
   "outputs": [
    {
     "data": {
      "text/plain": [
       "array([0.91622017, 0.92060399, 0.92206527])"
      ]
     },
     "execution_count": 6,
     "metadata": {},
     "output_type": "execute_result"
    }
   ],
   "source": [
    "from sklearn.model_selection import cross_val_score\n",
    "accuracies = cross_val_score(svm.SVC(C=0.1, gamma=0.0001, kernel='poly', probability=True), X_train, y_train, cv=3)\n",
    "accuracies"
   ]
  },
  {
   "cell_type": "code",
   "execution_count": 8,
   "id": "4d47765a",
   "metadata": {},
   "outputs": [
    {
     "data": {
      "text/plain": [
       "0.9196298100340964"
      ]
     },
     "execution_count": 8,
     "metadata": {},
     "output_type": "execute_result"
    }
   ],
   "source": [
    "avg = (accuracies[0] + accuracies[1] + accuracies[2]) / 3\n",
    "avg"
   ]
  },
  {
   "cell_type": "code",
   "execution_count": null,
   "id": "51e354f1",
   "metadata": {},
   "outputs": [
    {
     "name": "stdout",
     "output_type": "stream",
     "text": [
      "Fitting 5 folds for each of 12 candidates, totalling 60 fits\n",
      "[CV 1/5] END ..C=0.1, gamma=0.0001, kernel=poly;, score=0.932 total time=  13.4s\n",
      "[CV 2/5] END ..C=0.1, gamma=0.0001, kernel=poly;, score=0.924 total time=  13.1s\n",
      "[CV 3/5] END ..C=0.1, gamma=0.0001, kernel=poly;, score=0.930 total time=  13.6s\n",
      "[CV 4/5] END ..C=0.1, gamma=0.0001, kernel=poly;, score=0.933 total time=  15.2s\n",
      "[CV 5/5] END ..C=0.1, gamma=0.0001, kernel=poly;, score=0.935 total time=  13.7s\n"
     ]
    }
   ],
   "source": [
    "# https://medium.com/analytics-vidhya/image-classification-using-machine-learning-support-vector-machine-svm-dc7a0ec92e01\n",
    "# defining parameter range\n",
    "param_grid={\n",
    "    'C':[0.1 ,10],\n",
    "    'gamma':[0.0001, 1, 'auto'],\n",
    "    'kernel':['poly', 'linear']\n",
    "}\n",
    "\n",
    "# Initialize SVC model & pass param grid options to gridsearchcv\n",
    "clf = GridSearchCV(svm.SVC(probability=True),param_grid, refit = True, verbose = 3)\n",
    "#clf = GridSearchCV(svm.SVC(), param_grid, refit = True, verbose = 3) # possible 2nd options from other research \n",
    "\n",
    "# Train SVM Model\n",
    "clf.fit(X_train, y_train.ravel())\n",
    "\n",
    "# Evaluate the model\n",
    "accuracy = clf.score(X_test, y_test)\n",
    "print(\"Accuracy: \", accuracy)"
   ]
  },
  {
   "cell_type": "code",
   "execution_count": null,
   "id": "562b104e",
   "metadata": {},
   "outputs": [],
   "source": [
    "# https://medium.com/analytics-vidhya/image-classification-using-machine-learning-support-vector-machine-svm-dc7a0ec92e01\n",
    "# defining parameter range\n",
    "param_grid = {\n",
    "    'C': [0.1, 1, 10],              # regularization parameter\n",
    "    'degree': [2, 3, 4],            # degree of the polynomial kernel\n",
    "    'coef0': [0, 1, 2],             # independent term in kernel function\n",
    "    'gamma': ['scale', 'auto'],     # kernel coefficient\n",
    "    'kernel': ['poly']\n",
    "}\n",
    "\n",
    "# Initialize SVC model & pass param grid options to gridsearchcv\n",
    "clf = GridSearchCV(svm.SVC(probability=True),param_grid, refit = True, verbose = 3)\n",
    "#clf = GridSearchCV(svm.SVC(), param_grid, refit = True, verbose = 3) # possible 2nd options from other research \n",
    "\n",
    "# Train SVM Model\n",
    "clf.fit(X_train, y_train.ravel())\n",
    "\n",
    "# Evaluate the model\n",
    "accuracy = clf.score(X_test, y_test)\n",
    "print(\"Accuracy: \", accuracy)"
   ]
  },
  {
   "cell_type": "code",
   "execution_count": 7,
   "id": "942d4d81",
   "metadata": {},
   "outputs": [
    {
     "name": "stdout",
     "output_type": "stream",
     "text": [
      "Fitting 5 folds for each of 9 candidates, totalling 45 fits\n",
      "[CV 1/5] END C=0.1, kernel=linear, max_iter=1000;, score=0.586 total time=   0.6s\n",
      "[CV 2/5] END C=0.1, kernel=linear, max_iter=1000;, score=0.571 total time=   0.6s\n",
      "[CV 3/5] END C=0.1, kernel=linear, max_iter=1000;, score=0.500 total time=   0.5s\n",
      "[CV 4/5] END C=0.1, kernel=linear, max_iter=1000;, score=0.536 total time=   0.5s\n",
      "[CV 5/5] END C=0.1, kernel=linear, max_iter=1000;, score=0.464 total time=   0.5s\n",
      "[CV 1/5] END C=0.1, kernel=linear, max_iter=5000;, score=0.586 total time=   0.6s\n",
      "[CV 2/5] END C=0.1, kernel=linear, max_iter=5000;, score=0.571 total time=   0.5s\n",
      "[CV 3/5] END C=0.1, kernel=linear, max_iter=5000;, score=0.500 total time=   0.5s\n",
      "[CV 4/5] END C=0.1, kernel=linear, max_iter=5000;, score=0.536 total time=   0.4s\n",
      "[CV 5/5] END C=0.1, kernel=linear, max_iter=5000;, score=0.464 total time=   0.5s\n",
      "[CV 1/5] END C=0.1, kernel=linear, max_iter=10000;, score=0.586 total time=   0.5s\n",
      "[CV 2/5] END C=0.1, kernel=linear, max_iter=10000;, score=0.571 total time=   0.5s\n",
      "[CV 3/5] END C=0.1, kernel=linear, max_iter=10000;, score=0.500 total time=   0.5s\n",
      "[CV 4/5] END C=0.1, kernel=linear, max_iter=10000;, score=0.536 total time=   0.5s\n",
      "[CV 5/5] END C=0.1, kernel=linear, max_iter=10000;, score=0.464 total time=   0.7s\n",
      "[CV 1/5] END .C=1, kernel=linear, max_iter=1000;, score=0.586 total time=   0.5s\n",
      "[CV 2/5] END .C=1, kernel=linear, max_iter=1000;, score=0.571 total time=   0.5s\n",
      "[CV 3/5] END .C=1, kernel=linear, max_iter=1000;, score=0.500 total time=   0.6s\n",
      "[CV 4/5] END .C=1, kernel=linear, max_iter=1000;, score=0.536 total time=   0.5s\n",
      "[CV 5/5] END .C=1, kernel=linear, max_iter=1000;, score=0.464 total time=   0.5s\n",
      "[CV 1/5] END .C=1, kernel=linear, max_iter=5000;, score=0.586 total time=   0.5s\n",
      "[CV 2/5] END .C=1, kernel=linear, max_iter=5000;, score=0.571 total time=   0.5s\n",
      "[CV 3/5] END .C=1, kernel=linear, max_iter=5000;, score=0.500 total time=   0.5s\n",
      "[CV 4/5] END .C=1, kernel=linear, max_iter=5000;, score=0.536 total time=   0.5s\n",
      "[CV 5/5] END .C=1, kernel=linear, max_iter=5000;, score=0.464 total time=   0.5s\n",
      "[CV 1/5] END C=1, kernel=linear, max_iter=10000;, score=0.586 total time=   0.9s\n",
      "[CV 2/5] END C=1, kernel=linear, max_iter=10000;, score=0.571 total time=   0.7s\n",
      "[CV 3/5] END C=1, kernel=linear, max_iter=10000;, score=0.500 total time=   0.6s\n",
      "[CV 4/5] END C=1, kernel=linear, max_iter=10000;, score=0.536 total time=   0.6s\n",
      "[CV 5/5] END C=1, kernel=linear, max_iter=10000;, score=0.464 total time=   0.6s\n",
      "[CV 1/5] END C=10, kernel=linear, max_iter=1000;, score=0.586 total time=   0.5s\n",
      "[CV 2/5] END C=10, kernel=linear, max_iter=1000;, score=0.571 total time=   0.6s\n",
      "[CV 3/5] END C=10, kernel=linear, max_iter=1000;, score=0.500 total time=   0.6s\n",
      "[CV 4/5] END C=10, kernel=linear, max_iter=1000;, score=0.536 total time=   0.5s\n",
      "[CV 5/5] END C=10, kernel=linear, max_iter=1000;, score=0.464 total time=   0.6s\n",
      "[CV 1/5] END C=10, kernel=linear, max_iter=5000;, score=0.586 total time=   0.5s\n",
      "[CV 2/5] END C=10, kernel=linear, max_iter=5000;, score=0.571 total time=   0.5s\n",
      "[CV 3/5] END C=10, kernel=linear, max_iter=5000;, score=0.500 total time=   0.5s\n",
      "[CV 4/5] END C=10, kernel=linear, max_iter=5000;, score=0.536 total time=   0.6s\n",
      "[CV 5/5] END C=10, kernel=linear, max_iter=5000;, score=0.464 total time=   0.5s\n",
      "[CV 1/5] END C=10, kernel=linear, max_iter=10000;, score=0.586 total time=   0.5s\n",
      "[CV 2/5] END C=10, kernel=linear, max_iter=10000;, score=0.571 total time=   0.5s\n",
      "[CV 3/5] END C=10, kernel=linear, max_iter=10000;, score=0.500 total time=   0.6s\n",
      "[CV 4/5] END C=10, kernel=linear, max_iter=10000;, score=0.536 total time=   0.5s\n",
      "[CV 5/5] END C=10, kernel=linear, max_iter=10000;, score=0.464 total time=   0.6s\n",
      "Accuracy:  0.75\n"
     ]
    }
   ],
   "source": [
    "# https://medium.com/analytics-vidhya/image-classification-using-machine-learning-support-vector-machine-svm-dc7a0ec92e01\n",
    "# defining parameter range\n",
    "param_grid = {\n",
    "    'C': [0.1, 1, 10],      # regularization parameter\n",
    "    'loss': ['hinge', 'squared_hinge'],    # type of loss function to use\n",
    "    'max_iter': [1000, 5000, 10000],       # maximum number of iterations\n",
    "    'kernel': ['linear']\n",
    "}\n",
    "\n",
    "# Initialize SVC model & pass param grid options to gridsearchcv\n",
    "clf = GridSearchCV(svm.SVC(probability=True), param_grid, refit = True, verbose = 3)\n",
    "#clf = GridSearchCV(svm.SVC(), param_grid, refit = True, verbose = 3) # possible 2nd options from other research \n",
    "\n",
    "# Train SVM Model\n",
    "clf.fit(X_train, y_train.ravel())\n",
    "\n",
    "# Evaluate the model\n",
    "accuracy = clf.score(X_test, y_test)\n",
    "print(\"Accuracy: \", accuracy)"
   ]
  },
  {
   "cell_type": "code",
   "execution_count": null,
   "id": "87384847",
   "metadata": {},
   "outputs": [],
   "source": [
    "import pickle\n",
    "\n",
    "filename = '../app/pre_trained_models/best_trained_90_60.pkl'\n",
    "pickle.dump(svc, open(filename, 'wb'))"
   ]
  }
 ],
 "metadata": {
  "kernelspec": {
   "display_name": "Python 3 (ipykernel)",
   "language": "python",
   "name": "python3"
  },
  "language_info": {
   "codemirror_mode": {
    "name": "ipython",
    "version": 3
   },
   "file_extension": ".py",
   "mimetype": "text/x-python",
   "name": "python",
   "nbconvert_exporter": "python",
   "pygments_lexer": "ipython3",
   "version": "3.9.12"
  }
 },
 "nbformat": 4,
 "nbformat_minor": 5
}
