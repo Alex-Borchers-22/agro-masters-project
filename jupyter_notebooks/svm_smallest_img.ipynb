{
 "cells": [
  {
   "cell_type": "code",
   "execution_count": 2,
   "id": "23048bd9",
   "metadata": {
    "scrolled": false
   },
   "outputs": [],
   "source": [
    "# load in csvOut.csv data (holds image name & classification)\n",
    "import csv\n",
    "import os #to get all picture in directory\n",
    "from PIL import Image #to open images\n",
    "import numpy as np #load in numpy module\n",
    "import sys\n",
    "\n",
    "# loads only classification data\n",
    "with open('..//csvFileClassification.csv', newline='') as csvfile:\n",
    "    cls = list(csv.reader(csvfile))\n",
    "\n",
    "# convert to numpy array\n",
    "cls_np = np.array(cls)\n",
    "\n",
    "# loads in full csvOut data (name & classification)\n",
    "with open('..//csvOut.csv', newline='') as csvfile:\n",
    "    cls_full = list(csv.reader(csvfile))\n",
    "\n",
    "# convert to numpy array\n",
    "cls_full_np = np.array(cls_full)"
   ]
  },
  {
   "cell_type": "code",
   "execution_count": 19,
   "id": "8f895b34",
   "metadata": {},
   "outputs": [],
   "source": [
    "# Get the list of all files in directory\n",
    "path = \"..//images_handheld_resized\"\n",
    "dir_list = os.listdir(path)\n",
    "\n",
    "# Initialize dictionaries to hold bitmap information for each image\n",
    "rgb = {}\n",
    "\n",
    "# loop through files and get bit map for each (save as object where filename => bitmap for r,g,b)\n",
    "for file in cls_full:\n",
    "    \n",
    "    # method found https://stackoverflow.com/questions/46385999/transform-an-image-to-a-bitmap\n",
    "    img = Image.open(path + \"\\\\\" + file[0])\n",
    "    \n",
    "    # resize image\n",
    "    small_img = img.resize((600, 400))\n",
    "    smaller_img = img.resize((300, 200))\n",
    "    smallest_img = img.resize((120, 80))\n",
    "    ary = np.array(small_img)\n",
    "    \n",
    "    # Save all 3 together\n",
    "    rgb[file[0]] = ary\n",
    "    \n",
    "    # Split the three channels\n",
    "    #r[file], g[file], b[file] = np.split(ary,3,axis=2)\n",
    "    \n",
    "    # flatten out to 1 array\n",
    "    rgb[file[0]]=rgb[file[0]].reshape(-1)\n",
    "    \n",
    "    # convert array to string\n",
    "    #rgb_string[file] = np.array2string(rgb[file], precision=2, separator=',', suppress_small=True)\n"
   ]
  },
  {
   "cell_type": "code",
   "execution_count": 20,
   "id": "c052113b",
   "metadata": {
    "scrolled": false
   },
   "outputs": [],
   "source": [
    "# convert to indexed np array\n",
    "rgb_arr = np.array([rgb[row] for row in rgb])"
   ]
  },
  {
   "cell_type": "code",
   "execution_count": 23,
   "id": "8db41d19",
   "metadata": {
    "scrolled": true
   },
   "outputs": [],
   "source": [
    "# Training model (load necessary libraries)\n",
    "import numpy as np\n",
    "from sklearn import datasets\n",
    "from sklearn.model_selection import train_test_split\n",
    "from sklearn import svm\n",
    "\n",
    "#split data into training and testing sets\n",
    "X_train, X_test, y_train, y_test = train_test_split(rgb_arr, cls_np, test_size=0.2)"
   ]
  },
  {
   "cell_type": "code",
   "execution_count": 24,
   "id": "35f26b99",
   "metadata": {},
   "outputs": [
    {
     "name": "stdout",
     "output_type": "stream",
     "text": [
      "Accuracy:  0.4722222222222222\n"
     ]
    }
   ],
   "source": [
    "# Train SVM Model\n",
    "clf = svm.SVC()\n",
    "clf.fit(X_train, y_train.ravel())\n",
    "\n",
    "# Evaluate the model\n",
    "accuracy = clf.score(X_test, y_test)\n",
    "print(\"Accuracy: \", accuracy)"
   ]
  },
  {
   "cell_type": "code",
   "execution_count": null,
   "id": "51e354f1",
   "metadata": {},
   "outputs": [],
   "source": []
  }
 ],
 "metadata": {
  "kernelspec": {
   "display_name": "Python 3 (ipykernel)",
   "language": "python",
   "name": "python3"
  },
  "language_info": {
   "codemirror_mode": {
    "name": "ipython",
    "version": 3
   },
   "file_extension": ".py",
   "mimetype": "text/x-python",
   "name": "python",
   "nbconvert_exporter": "python",
   "pygments_lexer": "ipython3",
   "version": "3.9.12"
  }
 },
 "nbformat": 4,
 "nbformat_minor": 5
}
