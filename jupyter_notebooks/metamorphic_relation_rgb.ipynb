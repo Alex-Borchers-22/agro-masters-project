{
 "cells": [
  {
   "cell_type": "code",
   "execution_count": 26,
   "id": "23048bd9",
   "metadata": {
    "scrolled": false
   },
   "outputs": [],
   "source": [
    "# load in csvOut.csv data (holds image name & classification)\n",
    "import csv\n",
    "import os #to get all picture in directory\n",
    "from PIL import Image #to open images\n",
    "import numpy as np #load in numpy module\n",
    "import sys\n",
    "\n",
    "# loads in full csvOut data (name & classification)\n",
    "with open('..//annotations_handheld.csv', newline='') as csvfile:\n",
    "    cls_full = list(csv.reader(csvfile))"
   ]
  },
  {
   "cell_type": "code",
   "execution_count": 27,
   "id": "8f895b34",
   "metadata": {},
   "outputs": [],
   "source": [
    "# Get the list of all files in directory\n",
    "path = \"..//images_handheld_resized\"\n",
    "dir_list = os.listdir(path)\n",
    "\n",
    "# Initialize list of 'keys'\n",
    "keys = [\"rgb\", \"bgr\", \"brg\", \"gbr\", \"grb\", \"rbg\"]\n",
    "\n",
    "# Initialize lists to hold bitmap information for each image\n",
    "bitmap = {}\n",
    "for key in keys:\n",
    "    bitmap[key] = []\n",
    "\n",
    "# list of classifications\n",
    "cls = []\n",
    "\n",
    "# loop through files and get bit map for each (save as object where filename => bitmap for r,g,b)\n",
    "for index, file in enumerate(cls_full):\n",
    "    \n",
    "    # stop at 100 files for time being\n",
    "    if index == 100:\n",
    "        break\n",
    "    \n",
    "    # push classification to list\n",
    "    cls.append(file[1])\n",
    "    \n",
    "    # method found https://stackoverflow.com/questions/46385999/transform-an-image-to-a-bitmap\n",
    "    img = Image.open(path + \"\\\\\" + file[0])\n",
    "    \n",
    "    # resize image\n",
    "    #small_img = img.resize((600, 400))\n",
    "    #smaller_img = img.resize((300, 200))\n",
    "    smallest_img = img.resize((120, 80))\n",
    "    \n",
    "    # split into 3 channels\n",
    "    r, g, b = smallest_img.split()\n",
    "    \n",
    "    # merge channels in new order\n",
    "    bitmap['rgb'].append(np.array(Image.merge('RGB', (r, g, b))).reshape(-1))\n",
    "    bitmap['bgr'].append(np.array(Image.merge('RGB', (b, g, r))).reshape(-1))\n",
    "    bitmap['brg'].append(np.array(Image.merge('RGB', (b, r, g))).reshape(-1))\n",
    "    bitmap['gbr'].append(np.array(Image.merge('RGB', (g, b, r))).reshape(-1))\n",
    "    bitmap['grb'].append(np.array(Image.merge('RGB', (g, r, b))).reshape(-1))\n",
    "    bitmap['rbg'].append(np.array(Image.merge('RGB', (r, b, g))).reshape(-1))\n",
    "    \n"
   ]
  },
  {
   "cell_type": "code",
   "execution_count": 28,
   "id": "c052113b",
   "metadata": {
    "scrolled": false
   },
   "outputs": [],
   "source": [
    "# convert bitmaps to indexed np array\n",
    "bitmap_arr = {}\n",
    "for key in keys:\n",
    "    bitmap_arr[key] = np.array(bitmap[key])\n",
    "\n",
    "# convert classifications to numpy array\n",
    "cls_np = np.array(cls)"
   ]
  },
  {
   "cell_type": "code",
   "execution_count": 31,
   "id": "8db41d19",
   "metadata": {
    "scrolled": true
   },
   "outputs": [],
   "source": [
    "# Training model (load necessary libraries)\n",
    "import numpy as np\n",
    "from sklearn import datasets\n",
    "from sklearn.model_selection import train_test_split\n",
    "from sklearn import svm\n",
    "from sklearn.model_selection import GridSearchCV\n",
    "\n",
    "# Initialize dictionary to hold training & test data\n",
    "X_train = {}\n",
    "X_test = {}\n",
    "y_train = {}\n",
    "y_test = {}\n",
    "\n",
    "# loop through keys split data into training and testing sets\n",
    "for key in keys: \n",
    "    X_train[key], X_test[key], y_train[key], y_test[key] = train_test_split(bitmap_arr[key], cls_np, test_size=0.2)"
   ]
  },
  {
   "cell_type": "code",
   "execution_count": 33,
   "id": "4a288a14",
   "metadata": {},
   "outputs": [],
   "source": [
    "# set dictionary to hold predictions\n",
    "y_pred = {}\n",
    "\n",
    "# loop through keys, create SVM model and get classification prediction\n",
    "for key in keys: \n",
    "    model = svm.SVC()\n",
    "    model.fit(X_train[key], y_train[key])\n",
    "    y_pred[key] = model.predict(X_test[key])"
   ]
  },
  {
   "cell_type": "code",
   "execution_count": 35,
   "id": "514628dc",
   "metadata": {},
   "outputs": [
    {
     "name": "stdout",
     "output_type": "stream",
     "text": [
      "Metamorphic relation does not hold.\n"
     ]
    }
   ],
   "source": [
    "# check if metamorphic relations hold\n",
    "if np.array_equal(y_pred['rgb'], y_pred['brg']):\n",
    "    print(\"Metamorphic relation holds.\")\n",
    "else:\n",
    "    print(\"Metamorphic relation does not hold.\")"
   ]
  },
  {
   "cell_type": "code",
   "execution_count": 36,
   "id": "87384847",
   "metadata": {},
   "outputs": [
    {
     "data": {
      "text/plain": [
       "array(['H', 'B', 'B', 'H', 'B', 'B', 'B', 'H', 'B', 'B', 'B', 'B', 'B',\n",
       "       'B', 'H', 'B', 'B', 'B', 'B', 'B'], dtype='<U1')"
      ]
     },
     "execution_count": 36,
     "metadata": {},
     "output_type": "execute_result"
    }
   ],
   "source": [
    "y_pred['rgb']"
   ]
  },
  {
   "cell_type": "code",
   "execution_count": 37,
   "id": "655dc25e",
   "metadata": {},
   "outputs": [
    {
     "data": {
      "text/plain": [
       "array(['B', 'B', 'B', 'B', 'B', 'B', 'B', 'B', 'B', 'B', 'B', 'B', 'H',\n",
       "       'B', 'B', 'B', 'H', 'B', 'H', 'B'], dtype='<U1')"
      ]
     },
     "execution_count": 37,
     "metadata": {},
     "output_type": "execute_result"
    }
   ],
   "source": [
    "y_pred['brg']"
   ]
  },
  {
   "cell_type": "code",
   "execution_count": null,
   "id": "ebe2557a",
   "metadata": {},
   "outputs": [],
   "source": []
  }
 ],
 "metadata": {
  "kernelspec": {
   "display_name": "Python 3 (ipykernel)",
   "language": "python",
   "name": "python3"
  },
  "language_info": {
   "codemirror_mode": {
    "name": "ipython",
    "version": 3
   },
   "file_extension": ".py",
   "mimetype": "text/x-python",
   "name": "python",
   "nbconvert_exporter": "python",
   "pygments_lexer": "ipython3",
   "version": "3.9.12"
  }
 },
 "nbformat": 4,
 "nbformat_minor": 5
}
